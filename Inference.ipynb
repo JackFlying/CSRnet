{
 "cells": [
  {
   "cell_type": "code",
   "execution_count": 1,
   "metadata": {},
   "outputs": [
    {
     "name": "stderr",
     "output_type": "stream",
     "text": [
      "C:\\ProgramData\\Anaconda3\\lib\\site-packages\\h5py\\__init__.py:36: FutureWarning: Conversion of the second argument of issubdtype from `float` to `np.floating` is deprecated. In future, it will be treated as `np.float64 == np.dtype(float).type`.\n",
      "  from ._conv import register_converters as _register_converters\n",
      "Using TensorFlow backend.\n"
     ]
    }
   ],
   "source": [
    "import cv2\n",
    "import h5py\n",
    "from PIL import Image\n",
    "import numpy as np\n",
    "import matplotlib.pyplot as plt\n",
    "from matplotlib import cm as c\n",
    "from keras.models import model_from_json"
   ]
  },
  {
   "cell_type": "code",
   "execution_count": 13,
   "metadata": {},
   "outputs": [],
   "source": [
    "def load_model():\n",
    "    # Function to load and return neural network model \n",
    "    json_file = open('models/Model.json', 'r')\n",
    "    loaded_model_json = json_file.read()\n",
    "    json_file.close()\n",
    "    loaded_model = model_from_json(loaded_model_json)\n",
    "    loaded_model.load_weights(\"weights/model_B_weights.h5\")\n",
    "    return loaded_model\n",
    "\n",
    "def create_img(path):\n",
    "    #Function to load,normalize and return image \n",
    "    print(path)\n",
    "    im = Image.open(path).convert('RGB')\n",
    "    \n",
    "    im = np.array(im)\n",
    "    \n",
    "    im = im/255.0\n",
    "    \n",
    "    im[:,:,0]=(im[:,:,0]-0.485)/0.229\n",
    "    im[:,:,1]=(im[:,:,1]-0.456)/0.224\n",
    "    im[:,:,2]=(im[:,:,2]-0.406)/0.225\n",
    "\n",
    "\n",
    "    im = np.expand_dims(im,axis  = 0)\n",
    "    return im"
   ]
  },
  {
   "cell_type": "code",
   "execution_count": 3,
   "metadata": {},
   "outputs": [],
   "source": [
    "def predict(path):\n",
    "    #Function to load image,predict heat map, generate count and return (count , image , heat map)\n",
    "    model = load_model()\n",
    "    image = create_img(path)\n",
    "    hmap = model.predict(image)\n",
    "    count = np.sum(hmap)\n",
    "    return count,image,hmap"
   ]
  },
  {
   "cell_type": "code",
   "execution_count": 5,
   "metadata": {},
   "outputs": [
    {
     "name": "stdout",
     "output_type": "stream",
     "text": [
      "data/part_A_final/test_data/images/IMG_170.jpg\n"
     ]
    }
   ],
   "source": [
    "count,img,hmap = predict('data/part_A_final/test_data/images/IMG_170.jpg')"
   ]
  },
  {
   "cell_type": "code",
   "execution_count": 46,
   "metadata": {},
   "outputs": [
    {
     "name": "stdout",
     "output_type": "stream",
     "text": [
      "../BaiduAi-github/yuncong_data/our/train/19/100.jpg\n"
     ]
    }
   ],
   "source": [
    "count,img,hmap = predict('../BaiduAi-github/yuncong_data/our/train/19/100.jpg')"
   ]
  },
  {
   "cell_type": "code",
   "execution_count": 47,
   "metadata": {},
   "outputs": [
    {
     "data": {
      "image/png": "[encoded data removed]",
      "text/plain": [
       "<matplotlib.figure.Figure at 0x27af271f978>"
      ]
     },
     "metadata": {},
     "output_type": "display_data"
    }
   ],
   "source": [
    "\n",
    "#print(hmap)\n",
    "#Print count, image, heat map\n",
    "#plt.imshow(img.reshape(img.shape[1],img.shape[2],img.shape[3]))\n",
    "#plt.show()\n",
    "plt.imshow(hmap.reshape(hmap.shape[1],hmap.shape[2]) , cmap = c.jet )\n",
    "plt.show()\n"
   ]
  },
  {
   "cell_type": "code",
   "execution_count": 48,
   "metadata": {},
   "outputs": [
    {
     "name": "stdout",
     "output_type": "stream",
     "text": [
      "0.22679995\n"
     ]
    }
   ],
   "source": [
    "print(np.amax(hmap))"
   ]
  },
  {
   "cell_type": "code",
   "execution_count": 56,
   "metadata": {},
   "outputs": [
    {
     "name": "stdout",
     "output_type": "stream",
     "text": [
      "50\n",
      "[(1360, 112), (1368, 112), (1376, 112), (1384, 112), (1392, 112), (1400, 112), (1408, 112), (1360, 120), (1368, 120), (1376, 120), (1384, 120), (1392, 120), (1400, 120), (1408, 120), (1352, 128), (1360, 128), (1368, 128), (1400, 128), (1416, 128), (1424, 128), (1376, 136), (1384, 136), (1392, 136), (1400, 136), (1408, 136), (1376, 144), (1392, 144), (1408, 144), (1184, 200), (1184, 208), (1192, 208), (1200, 208), (1184, 216), (1192, 216), (1200, 216), (1224, 216), (1184, 224), (1192, 224), (1184, 232), (1248, 232), (1256, 232), (1264, 232), (1272, 232), (1248, 240), (1256, 240), (1264, 240), (1248, 248), (1256, 248), (1264, 248), (1272, 248)]\n"
     ]
    }
   ],
   "source": [
    "location=[]\n",
    "n=0\n",
    "for i in range(hmap.shape[1]):\n",
    "    for j in range(hmap.shape[2]):\n",
    "        if hmap[0][i][j][0]>0.40244*np.amax(hmap) and hmap[0][i][j][0]<0.80244*np.amax(hmap):\n",
    "            location.append((8*j,8*i))\n",
    "            n=n+1\n",
    "print(n)\n",
    "print(location)"
   ]
  },
  {
   "cell_type": "code",
   "execution_count": 8,
   "metadata": {},
   "outputs": [
    {
     "name": "stdout",
     "output_type": "stream",
     "text": [
      "Original Count :  664\n"
     ]
    }
   ],
   "source": [
    "temp = h5py.File('data/part_A_final/test_data/ground/IMG_170.h5' , 'r')\n",
    "temp_1 = np.asarray(temp['density'])\n",
    "#plt.imshow(temp_1,cmap = c.jet)\n",
    "print(\"Original Count : \",int(np.sum(temp_1)) + 1)"
   ]
  }
 ],
 "metadata": {
  "kernelspec": {
   "display_name": "Python 3",
   "language": "python",
   "name": "python3"
  },
  "language_info": {
   "codemirror_mode": {
    "name": "ipython",
    "version": 3
   },
   "file_extension": ".py",
   "mimetype": "text/x-python",
   "name": "python",
   "nbconvert_exporter": "python",
   "pygments_lexer": "ipython3",
   "version": "3.6.4"
  }
 },
 "nbformat": 4,
 "nbformat_minor": 2
}
